{
 "cells": [
  {
   "cell_type": "code",
   "execution_count": null,
   "metadata": {
    "collapsed": false
   },
   "outputs": [],
   "source": [
    "import sys\n",
    "import pandas as pd\n",
    "import csv\n",
    "import json\n",
    "import operator\n",
    "import cPickle as pickle\n",
    "import matplotlib.pyplot as plt\n",
    "import pylab as pl\n",
    "import numpy as np\n",
    "from math import log\n",
    "\n",
    "#with open(\"nn_train_datav3_test.json\",\"r\") as f:\n",
    "#    org = json.load(f)\n",
    "#filenames = org['filenames']1\n",
    "\n",
    "whale_ids = pd.read_csv(\"data/train.csv\")\n",
    "#print whale_ids\n",
    "\n",
    "count_dict = {}\n",
    "for idx, whale_id in enumerate(whale_ids['whaleID']):\n",
    "    #print whale_id\n",
    "    count_dict[whale_id] = 0\n",
    "    \n",
    "for idx, whale_id in enumerate(whale_ids['whaleID']):\n",
    "    #print whale_id\n",
    "    count_dict[whale_id] += 1\n",
    "\n",
    "count_dict = {k: v for k, v in count_dict.iteritems() if v >= 10}\n",
    "sorted_count_dict = sorted(count_dict.items(), key=operator.itemgetter(1))\n",
    "print sorted_count_dict\n",
    "#print sorted(count_dict.items(), key=lambda x: x[1])\n",
    "\n",
    "\n",
    "#list4plot = [(elem1, log(elem2)) for elem1, elem2 in sorted_count_dict]\n",
    "#plt.scatter(*zip(*list4plot))\n",
    "#plt.show()\n",
    "\n",
    "plt.bar(range(len(count_dict)), count_dict.values(), 5, color='g')\n",
    "plt.xticks(range(len(count_dict)), count_dict.keys(), rotation=25)\n",
    "plt.show()"
   ]
  },
  {
   "cell_type": "code",
   "execution_count": null,
   "metadata": {
    "collapsed": true
   },
   "outputs": [],
   "source": [
    "import sys\n",
    "import pandas as pd\n",
    "import csv\n",
    "import json\n",
    "import operator\n",
    "import cPickle as pickle\n",
    "import matplotlib.pyplot as plt\n",
    "\n",
    "#with open(\"nn_train_datav3_test.json\",\"r\") as f:\n",
    "#    org = json.load(f)\n",
    "#filenames = org['filenames']\n",
    "\n",
    "whale_ids = pd.read_csv(\"data/train.csv\")\n",
    "#print whale_ids\n",
    "\n",
    "count_dict = {}\n",
    "for idx, whale_id in enumerate(whale_ids['whaleID']):\n",
    "    #print whale_id\n",
    "    count_dict[whale_id] = 0\n",
    "    \n",
    "for idx, whale_id in enumerate(whale_ids['whaleID']):\n",
    "    #print whale_id\n",
    "    count_dict[whale_id] += 1\n",
    "\n",
    "count = 0\n",
    "for key in count_dict.keys():\n",
    "    if count_dict[key] >= 10:\n",
    "        count += 1\n",
    "print 'number of keys that have more than 10 images: %d' % count"
   ]
  },
  {
   "cell_type": "code",
   "execution_count": null,
   "metadata": {
    "collapsed": false
   },
   "outputs": [],
   "source": [
    "print 'test'"
   ]
  },
  {
   "cell_type": "code",
   "execution_count": null,
   "metadata": {
    "collapsed": true
   },
   "outputs": [],
   "source": []
  }
 ],
 "metadata": {
  "kernelspec": {
   "display_name": "Python 2",
   "language": "python",
   "name": "python2"
  },
  "language_info": {
   "codemirror_mode": {
    "name": "ipython",
    "version": 2
   },
   "file_extension": ".py",
   "mimetype": "text/x-python",
   "name": "python",
   "nbconvert_exporter": "python",
   "pygments_lexer": "ipython2",
   "version": "2.7"
  }
 },
 "nbformat": 4,
 "nbformat_minor": 0
}
