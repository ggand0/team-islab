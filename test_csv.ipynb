{
 "cells": [
  {
   "cell_type": "code",
   "execution_count": 15,
   "metadata": {
    "collapsed": false
   },
   "outputs": [
    {
     "name": "stdout",
     "output_type": "stream",
     "text": [
      "0.299853920937\n",
      "124\n"
     ]
    },
    {
     "ename": "NameError",
     "evalue": "name 'fds' is not defined",
     "output_type": "error",
     "traceback": [
      "\u001b[1;31m---------------------------------------------------------------------------\u001b[0m\n\u001b[1;31mNameError\u001b[0m                                 Traceback (most recent call last)",
      "\u001b[1;32m<ipython-input-15-03db2b059e96>\u001b[0m in \u001b[0;36m<module>\u001b[1;34m()\u001b[0m\n\u001b[0;32m     12\u001b[0m \u001b[1;32mprint\u001b[0m \u001b[0mx\u001b[0m\u001b[1;33m[\u001b[0m\u001b[1;36m0\u001b[0m\u001b[1;33m]\u001b[0m\u001b[1;33m.\u001b[0m\u001b[0mmax\u001b[0m\u001b[1;33m(\u001b[0m\u001b[1;33m)\u001b[0m\u001b[1;33m\u001b[0m\u001b[0m\n\u001b[0;32m     13\u001b[0m \u001b[1;32mprint\u001b[0m \u001b[0mx\u001b[0m\u001b[1;33m[\u001b[0m\u001b[1;36m0\u001b[0m\u001b[1;33m]\u001b[0m\u001b[1;33m.\u001b[0m\u001b[0margmax\u001b[0m\u001b[1;33m(\u001b[0m\u001b[1;33m)\u001b[0m\u001b[1;33m\u001b[0m\u001b[0m\n\u001b[1;32m---> 14\u001b[1;33m \u001b[0mfds\u001b[0m\u001b[1;33m\u001b[0m\u001b[0m\n\u001b[0m\u001b[0;32m     15\u001b[0m \u001b[1;33m\u001b[0m\u001b[0m\n\u001b[0;32m     16\u001b[0m \u001b[0mwhale_ids\u001b[0m\u001b[1;33m=\u001b[0m\u001b[0mpd\u001b[0m\u001b[1;33m.\u001b[0m\u001b[0mread_csv\u001b[0m\u001b[1;33m(\u001b[0m\u001b[1;34m\"sample_submission.csv\"\u001b[0m\u001b[1;33m)\u001b[0m\u001b[1;33m\u001b[0m\u001b[0m\n",
      "\u001b[1;31mNameError\u001b[0m: name 'fds' is not defined"
     ]
    }
   ],
   "source": [
    "import os\n",
    "import json\n",
    "from matplotlib import pyplot\n",
    "import numpy as np\n",
    "from PIL import Image\n",
    "import pandas as pd\n",
    "import csv\n",
    "import cPickle as pickle\n",
    "\n",
    "#x = pickle.load(open(\"label_map.bin\", \"rb\"))\n",
    "x = pickle.load(open(\"head-64x64_preds_da.bin\", \"rb\"))\n",
    "print x[0].max()\n",
    "print x[0].argmax()\n",
    "fds\n",
    "\n",
    "whale_ids=pd.read_csv(\"sample_submission.csv\")\n",
    "output = pd.DataFrame(columns=whale_ids.columns.values)\n",
    "#print output\n",
    "\n",
    "n=len(whale_ids.columns)-1\n",
    "t = [0 for i in range(0, n)]\n",
    "print t\n",
    "t.insert(0, 'test_img.jpg')#np.insert(t, 0, 'test_img.jpg')\n",
    "print t\n",
    "print len(t)\n",
    "print len(whale_ids.columns.values)\n",
    "\n",
    "new_row = pd.Series(t, index=whale_ids.columns.values)#, index=['test_img.jpg'])\n",
    "#output.append (new_row, ignore_index=True)\n",
    "output.loc[0] = new_row\n",
    "\n",
    "#test_dict={}\n",
    "#for col in whale_ids.columns.values:\n",
    "#    test_dict[col]=0\n",
    "#output.append(test_dict, ignore_index=True)\n",
    "print output\n",
    "output.to_csv('test.csv')\n"
   ]
  },
  {
   "cell_type": "code",
   "execution_count": 10,
   "metadata": {
    "collapsed": false
   },
   "outputs": [
    {
     "name": "stdout",
     "output_type": "stream",
     "text": [
      "DONE.\n"
     ]
    }
   ],
   "source": [
    "# Export the filenames list of test dataset for debugging\n",
    "import os\n",
    "import json\n",
    "from matplotlib import pyplot\n",
    "import numpy as np\n",
    "from PIL import Image\n",
    "import pandas as pd\n",
    "import cPickle as pickle\n",
    "\n",
    "filenames=[]\n",
    "\n",
    "annotation_file=\"master_annotations_test.json\"\n",
    "with open(annotation_file,\"r\") as f:\n",
    "    annotations = json.load(f)\n",
    "    \n",
    "count=0.    \n",
    "for i in annotations['annotations']:\n",
    "    count+=1.\n",
    "    #print count/len(annotations['annotations'])\n",
    "    ### get filename and load image\n",
    "    filename=i[\"filename\"]\n",
    "    #print filename\n",
    "    filenames.append(filename)\n",
    "\n",
    "with open('bin/filenames_test.bin','w') as fid:\n",
    "    pickle.dump(filenames, fid)\n",
    "print 'DONE.'"
   ]
  },
  {
   "cell_type": "code",
   "execution_count": 20,
   "metadata": {
    "collapsed": false
   },
   "outputs": [
    {
     "name": "stdout",
     "output_type": "stream",
     "text": [
      "4\n"
     ]
    },
    {
     "ename": "NameError",
     "evalue": "name 'fds' is not defined",
     "output_type": "error",
     "traceback": [
      "\u001b[1;31m---------------------------------------------------------------------------\u001b[0m\n\u001b[1;31mNameError\u001b[0m                                 Traceback (most recent call last)",
      "\u001b[1;32m<ipython-input-20-c177d5830a13>\u001b[0m in \u001b[0;36m<module>\u001b[1;34m()\u001b[0m\n\u001b[0;32m      2\u001b[0m \u001b[0mx\u001b[0m \u001b[1;33m=\u001b[0m \u001b[0mpickle\u001b[0m\u001b[1;33m.\u001b[0m\u001b[0mload\u001b[0m\u001b[1;33m(\u001b[0m\u001b[0mopen\u001b[0m\u001b[1;33m(\u001b[0m\u001b[1;34m\"label_map.bin\"\u001b[0m\u001b[1;33m,\u001b[0m \u001b[1;34m\"rb\"\u001b[0m\u001b[1;33m)\u001b[0m\u001b[1;33m)\u001b[0m\u001b[1;33m\u001b[0m\u001b[0m\n\u001b[0;32m      3\u001b[0m \u001b[1;32mprint\u001b[0m \u001b[0mx\u001b[0m\u001b[1;33m[\u001b[0m\u001b[1;34m'whale_89615'\u001b[0m\u001b[1;33m]\u001b[0m\u001b[1;33m\u001b[0m\u001b[0m\n\u001b[1;32m----> 4\u001b[1;33m \u001b[0mfds\u001b[0m\u001b[1;33m\u001b[0m\u001b[0m\n\u001b[0m\u001b[0;32m      5\u001b[0m \u001b[1;33m\u001b[0m\u001b[0m\n\u001b[0;32m      6\u001b[0m \u001b[1;33m\u001b[0m\u001b[0m\n",
      "\u001b[1;31mNameError\u001b[0m: name 'fds' is not defined"
     ]
    }
   ],
   "source": [
    "import cPickle as pickle\n",
    "x = pickle.load(open(\"label_map.bin\", \"rb\"))\n",
    "print x['whale_89615']\n",
    "fds\n",
    "\n",
    "\n",
    "import cPickle as pickle\n",
    "x = pickle.load(open(\"head-64x64_preds.bin\", \"rb\"))\n",
    "print len(x)\n",
    "print len(x[0])\n",
    "print x\n",
    "print x[0]\n",
    "print x[0].argmax()"
   ]
  },
  {
   "cell_type": "code",
   "execution_count": 13,
   "metadata": {
    "collapsed": false
   },
   "outputs": [
    {
     "name": "stdout",
     "output_type": "stream",
     "text": [
      "6925\n",
      "Empty DataFrame\n",
      "Columns: [Image, whale_00195, whale_00442, whale_02411, whale_02608, whale_02839, whale_03103, whale_03227, whale_03623, whale_03728, whale_03935, whale_03990, whale_04373, whale_04397, whale_04435, whale_04480, whale_04540, whale_05140, whale_05349, whale_05487, whale_05661, whale_05784, whale_06069, whale_06334, whale_06339, whale_06967, whale_06997, whale_07331, whale_07483, whale_07647, whale_07808, whale_07863, whale_08017, whale_08181, whale_08324, whale_08439, whale_08637, whale_08700, whale_08729, whale_08923, whale_09062, whale_09181, whale_09422, whale_09454, whale_09651, whale_09913, whale_10005, whale_10021, whale_10583, whale_10977, whale_11076, whale_11099, whale_11242, whale_11555, whale_11625, whale_11708, whale_12074, whale_12085, whale_12609, whale_12661, whale_12820, whale_13288, whale_13701, whale_13789, whale_13863, whale_14094, whale_14270, whale_14626, whale_14892, whale_15078, whale_15079, whale_15434, whale_15519, whale_15615, whale_16406, whale_16576, whale_16738, whale_16762, whale_17327, whale_17528, whale_17601, whale_17604, whale_17785, whale_18158, whale_18845, whale_18989, whale_19027, whale_19041, whale_19906, whale_20248, whale_20448, whale_21160, whale_21213, whale_21655, whale_21873, whale_22059, whale_22101, whale_22118, whale_22212, whale_22297, ...]\n",
      "Index: []\n",
      "\n",
      "[0 rows x 448 columns]\n",
      "        Image  whale_00195  whale_00442  whale_02411  whale_02608  \\\n",
      "0  w_1947.jpg            0            0            0            0   \n",
      "\n",
      "   whale_02839  whale_03103  whale_03227  whale_03623  whale_03728  \\\n",
      "0            0            0            0            0            0   \n",
      "\n",
      "      ...       whale_98618  whale_98633  whale_98645  whale_98746  \\\n",
      "0     ...                 0            0            0            0   \n",
      "\n",
      "   whale_98939  whale_98996  whale_99243  whale_99326  whale_99558  \\\n",
      "0            0            0            0            0            0   \n",
      "\n",
      "   whale_99573  \n",
      "0            0  \n",
      "\n",
      "[1 rows x 448 columns]\n"
     ]
    }
   ],
   "source": [
    "import sys\n",
    "import pandas as pd\n",
    "import csv\n",
    "import json\n",
    "import cPickle as pickle\n",
    "\n",
    "#with open(\"nn_train_datav3_test.json\",\"r\") as f:\n",
    "#    org = json.load(f)\n",
    "#filenames = org['filenames']\n",
    "filenames = pickle.load(open('bin/filenames_test.bin', \"rb\"))\n",
    "preds = pickle.load(open('head-64x64_da_preds.bin', \"rb\"))\n",
    "\n",
    "whale_ids=pd.read_csv(\"data/sample_submission.csv\")\n",
    "output = pd.DataFrame(columns=whale_ids.columns.values)\n",
    "#print type(whale_ids['Image']) # => pandas.Series\n",
    "print len(whale_ids['Image'])\n",
    "print output\n",
    "\n",
    "# get the dict\n",
    "reverse_map = pickle.load(open(\"label_map_reverse.bin\", \"rb\"))\n",
    "\n",
    "row_dict={}\n",
    "# set zeros first\n",
    "for whale_id in whale_ids.columns.values[1:]:\n",
    "    row_dict[whale_id] = 0\n",
    "\n",
    "# preds and filenames should have the same index for a sample\n",
    "filename='w_1947.jpg'\n",
    "index = filenames.index(filename)\n",
    "label = preds[index].argmax()\n",
    "#print(label)\n",
    "whale_id = reverse_map[label]\n",
    "row_dict[whale_id] = 1\n",
    "row_dict['Image'] = filename\n",
    "output.loc[0] = row_dict\n",
    "\n",
    "print output\n",
    "output.to_csv('test.csv')"
   ]
  },
  {
   "cell_type": "code",
   "execution_count": null,
   "metadata": {
    "collapsed": false
   },
   "outputs": [],
   "source": []
  }
 ],
 "metadata": {
  "kernelspec": {
   "display_name": "Python 2",
   "language": "python",
   "name": "python2"
  },
  "language_info": {
   "codemirror_mode": {
    "name": "ipython",
    "version": 2
   },
   "file_extension": ".py",
   "mimetype": "text/x-python",
   "name": "python",
   "nbconvert_exporter": "python",
   "pygments_lexer": "ipython2",
   "version": "2.7"
  }
 },
 "nbformat": 4,
 "nbformat_minor": 0
}
